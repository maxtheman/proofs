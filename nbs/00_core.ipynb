{
 "cells": [
  {
   "attachments": {},
   "cell_type": "markdown",
   "metadata": {},
   "source": [
    "# Core\n",
    "\n",
    "> This is a proofs validator to help students and hobbyists do mathematical thinking and problem solving.\n",
    ">\n",
    "> It's for when you buy a math book from the local used book store, so you have a piece of software to use to explore the mathematical concepts alongside you that's fun and easy to use for anybody with a programming background. It's to help amateurs satisfy their mathematical curiosity.\n",
    ">\n",
    "> It's supposed to validate what you're doing in a \"black box\" kind of manner, and try to offer you guardrails enough that you can spot your mistakes and feel *reasonably* more confident you know what you're doing.\n",
    ">\n",
    "> Not perfectly confident, reasonably.\n"
   ]
  },
  {
   "cell_type": "code",
   "execution_count": null,
   "metadata": {},
   "outputs": [],
   "source": [
    "#| default_exp core"
   ]
  },
  {
   "cell_type": "code",
   "execution_count": null,
   "metadata": {},
   "outputs": [],
   "source": [
    "#| hide\n",
    "from nbdev.showdoc import *\n",
    "from fastcore.test import *"
   ]
  },
  {
   "cell_type": "code",
   "execution_count": null,
   "metadata": {},
   "outputs": [],
   "source": [
    "#| export\n",
    "from typing import Callable, List, Tuple, Union\n",
    "from sympy import Equality, Unequality\n",
    "from sympy.core.relational import Relational\n",
    "from sympy.core.basic import Basic\n",
    "from random import randint, seed\n",
    "import sympy as sp\n",
    "\n",
    "from IPython.display import display, Latex, HTML\n",
    "\n",
    "import typing\n",
    "import inspect"
   ]
  },
  {
   "attachments": {},
   "cell_type": "markdown",
   "metadata": {},
   "source": [
    "## Helper functions"
   ]
  },
  {
   "cell_type": "code",
   "execution_count": null,
   "metadata": {},
   "outputs": [],
   "source": [
    "#| export\n",
    "# Basic types\n",
    "Var = sp.Symbol\n",
    "Const = sp.Number\n",
    "Func = Callable[[Var], sp.Expr]\n",
    "Goal = Union[Equality, Unequality, Relational]\n",
    "Expression = Union[sp.Expr, Basic]\n",
    "\n",
    "# TODO - build in a repr override to use latex\n",
    "\n",
    "# Helper functions to create a more user-friendly interface\n",
    "def variable(name: str) -> Var:\n",
    "    return sp.Symbol(name)\n",
    "\n",
    "def constant(value: Union[int, float]) -> Const:\n",
    "    return sp.Number(value)\n",
    "\n",
    "def equation(expr: str) -> sp.Expr:\n",
    "    return sp.sympify(expr, evaluate=False)\n",
    "\n",
    "def equals(lhs: sp.Expr, rhs: sp.Expr) -> Equality:\n",
    "    return sp.Eq(lhs, rhs, evaluate=False)\n",
    "\n",
    "def not_equals(lhs: Expression, rhs: Expression) -> Unequality:\n",
    "    return sp.Ne(lhs, rhs, evaluate=False)"
   ]
  },
  {
   "attachments": {},
   "cell_type": "markdown",
   "metadata": {},
   "source": [
    "## Core functionality "
   ]
  },
  {
   "cell_type": "code",
   "execution_count": null,
   "metadata": {},
   "outputs": [],
   "source": [
    "#| export\n",
    "def make_examples(domain: str, #Domain of the example equation\n",
    "                  N: int, #Number of examples\n",
    "                  equation: str #Equation to generate examples for\n",
    "                  ) -> List[Tuple[sp.Expr, sp.Expr]]: #List of input-output pairs\n",
    "    \"\"\"For a given domain and equation, select N examples and generate a list of N input-output pairs.\n",
    "    Currently, the domain can be either 'real' or 'integer', and one variable is assumed.\"\"\"\n",
    "    examples = []\n",
    "    if domain == 'real':\n",
    "        # select N random real numbers\n",
    "        for _ in range(N):\n",
    "            x = sp.Symbol('x')\n",
    "            x_val = randint(-100, 100)\n",
    "            y_val = sp.sympify(equation).subs(x, x_val)\n",
    "            examples.append((x_val, y_val))\n",
    "    elif domain == 'integer':\n",
    "        # select N random integers\n",
    "        for _ in range(N):\n",
    "            x = sp.Symbol('x', integer=True)\n",
    "            x_val = randint(-100, 100)\n",
    "            y_val = sp.sympify(equation).subs(x, x_val)\n",
    "            examples.append((x_val, y_val))\n",
    "    else:\n",
    "        raise ValueError(f\"Domain {domain} not supported.\")\n",
    "    return examples"
   ]
  },
  {
   "cell_type": "code",
   "execution_count": null,
   "metadata": {},
   "outputs": [
    {
     "data": {
      "text/markdown": [
       "|    | **Type** | **Details** |\n",
       "| -- | -------- | ----------- |\n",
       "| domain | str | Domain of the example equation |\n",
       "| N | int | Number of examples |\n",
       "| equation | str | Equation to generate examples for |\n",
       "| **Returns** | **typing.List[typing.Tuple[sympy.core.expr.Expr, sympy.core.expr.Expr]]** | **List of input-output pairs** |"
      ],
      "text/plain": [
       "<nbdev.showdoc.DocmentTbl>"
      ]
     },
     "execution_count": null,
     "metadata": {},
     "output_type": "execute_result"
    }
   ],
   "source": [
    "#| hide\n",
    "DocmentTbl(make_examples)"
   ]
  },
  {
   "cell_type": "code",
   "execution_count": null,
   "metadata": {},
   "outputs": [
    {
     "name": "stdout",
     "output_type": "stream",
     "text": [
      "[(93, 8649), (-49, 2401), (25, 625), (-100, 10000), (56, 3136), (-2, 4), (94, 8836), (32, 1024), (5, 25), (32, 1024)]\n"
     ]
    }
   ],
   "source": [
    "examples = make_examples('real', 10, 'x**2')\n",
    "print(examples)"
   ]
  },
  {
   "cell_type": "code",
   "execution_count": null,
   "metadata": {},
   "outputs": [],
   "source": [
    "assert len(examples) == 10"
   ]
  },
  {
   "cell_type": "code",
   "execution_count": null,
   "metadata": {},
   "outputs": [],
   "source": [
    "test_fail(lambda: make_examples('complex', 10, 'x**2'), contains=\"Domain complex not supported.\")"
   ]
  },
  {
   "cell_type": "code",
   "execution_count": null,
   "metadata": {},
   "outputs": [],
   "source": [
    "#| export\n",
    "def prove(goal: Goal, #Goal to prove\n",
    "          proof_func: Callable[..., Goal], #Proof function\n",
    "          *args #Arguments to proof function\n",
    "          ) -> bool: #True if proof succeeds, False otherwise\n",
    "    \"\"\"Prove a goal using a proof function and arguments.\n",
    "    The proof function should take the goal as the last argument and return the derived result.\n",
    "    The goal is proved if the derived result matches the goal.\"\"\"\n",
    "    try:\n",
    "        derived_result = proof_func(*args)\n",
    "        if goal == derived_result:\n",
    "            display(Latex(f\"$$\\\\text \\\\quad {sp.latex(goal)} \\\\quad Q.E.D.$$\"))\n",
    "            return True\n",
    "        else:\n",
    "            raise Exception(f\"Derived result {derived_result} does not match goal {goal}\")\n",
    "    except Exception as e:\n",
    "        print(f\"Proof failed: {str(e)}\")\n",
    "        print(\"Check your assumptions and proof function for errors.\")\n",
    "        return False"
   ]
  },
  {
   "cell_type": "code",
   "execution_count": null,
   "metadata": {},
   "outputs": [
    {
     "data": {
      "text/markdown": [
       "|    | **Type** | **Details** |\n",
       "| -- | -------- | ----------- |\n",
       "| goal | typing.Union[sympy.core.relational.Equality, sympy.core.relational.Unequality, sympy.core.relational.Relational] | Goal to prove |\n",
       "| proof_func | typing.Callable[..., typing.Union[sympy.core.relational.Equality, sympy.core.relational.Unequality, sympy.core.relational.Relational]] | Proof function |\n",
       "| args |  |  |\n",
       "| **Returns** | **bool** | **True if proof succeeds, False otherwise** |"
      ],
      "text/plain": [
       "<nbdev.showdoc.DocmentTbl>"
      ]
     },
     "execution_count": null,
     "metadata": {},
     "output_type": "execute_result"
    }
   ],
   "source": [
    "#| hide\n",
    "DocmentTbl(prove)"
   ]
  },
  {
   "cell_type": "code",
   "execution_count": null,
   "metadata": {},
   "outputs": [
    {
     "data": {
      "text/latex": [
       "$$\\text \\quad x = 2 \\quad Q.E.D.$$"
      ],
      "text/plain": [
       "<IPython.core.display.Latex object>"
      ]
     },
     "metadata": {},
     "output_type": "display_data"
    }
   ],
   "source": [
    "test_eq(prove(equals(variable('x'), constant(2)), equals, variable('x'), constant(2)), True)"
   ]
  },
  {
   "cell_type": "code",
   "execution_count": null,
   "metadata": {},
   "outputs": [
    {
     "name": "stdout",
     "output_type": "stream",
     "text": [
      "Proof failed: Derived result Eq(x, 3) does not match goal Eq(x, 2)\n",
      "Check your assumptions and proof function for errors.\n"
     ]
    }
   ],
   "source": [
    "result = prove(equals(variable('x'), constant(2)), equals, variable('x'), constant(3))\n",
    "test_ne(result, True)"
   ]
  },
  {
   "cell_type": "code",
   "execution_count": null,
   "metadata": {},
   "outputs": [],
   "source": [
    "#| export\n",
    "def print_proof(proof: Callable[..., Goal], # the proof function\n",
    "                 *args # the arguments to the proof function\n",
    "                 ) -> None: # no return value\n",
    "    \"\"\"Print a proof step by step. Mostly used when defining a proof evaluation function.\n",
    "    The proof function should take the goal as the last argument and return the derived result.\n",
    "    The goal is proved if the derived result matches the goal.\n",
    "    Comments do not support latex formatting, but the rest of the proof does.\"\"\"\n",
    "    # add all of the arguments to the local namespace with their existing names that are passed in.\n",
    "    args_list = lambda args: [_arg for _arg in args]\n",
    "    _printed = ['_formatted_comment','_i', '_arg', 'line', 'var_name','args_list', '_printed', 'var_value', 'proof', 'args', 'kwargs', 'hints']\n",
    "    #build latex string progressively and render at the end\n",
    "    for _i, _arg in enumerate(args_list(args)):\n",
    "        exec(f\"{_arg} = args[{_i}]\", globals(), locals())\n",
    "        _printed.append(str(_arg))\n",
    "    for _i, line in enumerate(inspect.getsourcelines(proof)[0]):\n",
    "        #print each varaible only once, and add opt outs\n",
    "        line = line.strip()\n",
    "        if line.startswith('#'):\n",
    "            # Nicely formatted representation of the comment\n",
    "            _formatted_comment = line[1:].strip()\n",
    "            display(Latex(f\"$${sp.latex(_formatted_comment)}$$\"))\n",
    "        if line.startswith('def'):\n",
    "            continue\n",
    "        if line.startswith('@'):\n",
    "            continue\n",
    "        if line.startswith('return'):\n",
    "            line = line[7:]\n",
    "        if line == '':\n",
    "            continue\n",
    "        exec(line, globals(), locals())\n",
    "        # print(f\"\\nProof state after line {i+1}: {line}\")\n",
    "        for var_name, var_value in locals().items():\n",
    "            if var_name in _printed:\n",
    "                continue\n",
    "            else:\n",
    "                _printed.append(var_name)\n",
    "            # if isinstance(var_value, (Var, Const, Func)):\n",
    "            display(Latex(f\"$${sp.latex(var_value)}$$\"))"
   ]
  },
  {
   "cell_type": "code",
   "execution_count": null,
   "metadata": {},
   "outputs": [
    {
     "data": {
      "text/markdown": [
       "|    | **Type** | **Details** |\n",
       "| -- | -------- | ----------- |\n",
       "| proof | typing.Callable[..., typing.Union[sympy.core.relational.Equality, sympy.core.relational.Unequality, sympy.core.relational.Relational]] | the proof function |\n",
       "| args |  |  |\n",
       "| **Returns** | **None** | **no return value** |"
      ],
      "text/plain": [
       "<nbdev.showdoc.DocmentTbl>"
      ]
     },
     "execution_count": null,
     "metadata": {},
     "output_type": "execute_result"
    }
   ],
   "source": [
    "#| hide\n",
    "DocmentTbl(print_proof)"
   ]
  },
  {
   "cell_type": "code",
   "execution_count": null,
   "metadata": {},
   "outputs": [
    {
     "data": {
      "text/latex": [
       "$$\\mathtt{\\text{This is a test function to show how print\\_proof works}}$$"
      ],
      "text/plain": [
       "<IPython.core.display.Latex object>"
      ]
     },
     "metadata": {},
     "output_type": "display_data"
    },
    {
     "data": {
      "text/latex": [
       "$$x$$"
      ],
      "text/plain": [
       "<IPython.core.display.Latex object>"
      ]
     },
     "metadata": {},
     "output_type": "display_data"
    },
    {
     "data": {
      "text/latex": [
       "$$\\mathtt{\\text{again}}$$"
      ],
      "text/plain": [
       "<IPython.core.display.Latex object>"
      ]
     },
     "metadata": {},
     "output_type": "display_data"
    },
    {
     "data": {
      "text/latex": [
       "$$y$$"
      ],
      "text/plain": [
       "<IPython.core.display.Latex object>"
      ]
     },
     "metadata": {},
     "output_type": "display_data"
    }
   ],
   "source": [
    "def print_proof_example():\n",
    "    # This is a test function to show how print_proof works\n",
    "    x = variable('x')\n",
    "    # again\n",
    "    y = variable('y')\n",
    "    return equals(x, y)\n",
    "\n",
    "latex = Latex(print_proof(print_proof_example))"
   ]
  },
  {
   "cell_type": "code",
   "execution_count": null,
   "metadata": {},
   "outputs": [],
   "source": [
    "#| export\n",
    "def contradiction_proof(proof: Callable[..., Goal] # the proof function\n",
    "                        ) -> Callable[..., Unequality]: # the wrapped contradiction proof function to evaluate\n",
    "    \"\"\"Wrap a proof function to prove a contradiction.\n",
    "    The proof function should take the goal as the last argument and return the derived result.\n",
    "    The goal is proved if the derived result matches the goal.\"\"\"\n",
    "    def wrapper(*args, **kwargs):\n",
    "        hints = typing.get_type_hints(proof)\n",
    "        if hints != {}:\n",
    "            if hints.get('return') != Unequality:\n",
    "                print(hints.get('return'))\n",
    "                raise TypeError(\"Proof function must return Unequality\")\n",
    "        else:\n",
    "            try:\n",
    "                print_proof(proof, *args, **kwargs)\n",
    "            except Exception as e:\n",
    "                print(f\"Error in proof function: {str(e)}\")\n",
    "                raise\n",
    "            # there might be something weird around result that would prevent it from being printed if it's in the proof. check that later\n",
    "            result = proof(*args, **kwargs)\n",
    "            if not isinstance(result, Unequality):\n",
    "                raise TypeError(\"Proof function must return Unequality\")\n",
    "            return result\n",
    "    return wrapper"
   ]
  },
  {
   "cell_type": "code",
   "execution_count": null,
   "metadata": {},
   "outputs": [
    {
     "data": {
      "text/markdown": [
       "|    | **Type** | **Details** |\n",
       "| -- | -------- | ----------- |\n",
       "| proof | typing.Callable[..., typing.Union[sympy.core.relational.Equality, sympy.core.relational.Unequality, sympy.core.relational.Relational]] | the proof function |\n",
       "| **Returns** | **typing.Callable[..., sympy.core.relational.Unequality]** | **the contradiction proof function to evaluate** |"
      ],
      "text/plain": [
       "<nbdev.showdoc.DocmentTbl>"
      ]
     },
     "execution_count": null,
     "metadata": {},
     "output_type": "execute_result"
    }
   ],
   "source": [
    "#| hide\n",
    "DocmentTbl(contradiction_proof)"
   ]
  },
  {
   "cell_type": "code",
   "execution_count": null,
   "metadata": {},
   "outputs": [],
   "source": [
    "#| export\n",
    "def direct_proof(proof: Callable[..., Goal] # the proof function\n",
    "                        ) -> Callable[..., Equality]: # the wrapped proof function to evaluate\n",
    "    \"\"\"Wrap a proof function to prove a direct proof.\n",
    "    The proof function should take the goal as the last argument and return the derived result.\n",
    "    The goal is proved if the derived result matches the goal.\"\"\"\n",
    "    def wrapper(*args, **kwargs):\n",
    "        hints = typing.get_type_hints(proof)\n",
    "        if hints != {}:\n",
    "            if hints.get('return') != Equality:\n",
    "                print(hints.get('return'))\n",
    "                raise TypeError(\"Proof function must return Equality\")\n",
    "        else:\n",
    "            try:\n",
    "                print_proof(proof, *args, **kwargs)\n",
    "            except Exception as e:\n",
    "                print(f\"Error in proof function: {str(e)}\")\n",
    "                raise\n",
    "            result = proof(*args, **kwargs)\n",
    "            if not isinstance(result, Equality):\n",
    "                raise TypeError(\"Proof function must return Equality\")\n",
    "            return result\n",
    "    return wrapper"
   ]
  },
  {
   "cell_type": "code",
   "execution_count": null,
   "metadata": {},
   "outputs": [
    {
     "data": {
      "text/markdown": [
       "|    | **Type** | **Details** |\n",
       "| -- | -------- | ----------- |\n",
       "| proof | typing.Callable[..., typing.Union[sympy.core.relational.Equality, sympy.core.relational.Unequality, sympy.core.relational.Relational]] | the proof function |\n",
       "| **Returns** | **typing.Callable[..., sympy.core.relational.Equality]** | **the wrapped proof function to evaluate** |"
      ],
      "text/plain": [
       "<nbdev.showdoc.DocmentTbl>"
      ]
     },
     "execution_count": null,
     "metadata": {},
     "output_type": "execute_result"
    }
   ],
   "source": [
    "#| hide\n",
    "DocmentTbl(direct_proof)"
   ]
  },
  {
   "attachments": {},
   "cell_type": "markdown",
   "metadata": {},
   "source": [
    "Here's how to use a contradiction goal."
   ]
  },
  {
   "cell_type": "code",
   "execution_count": null,
   "metadata": {},
   "outputs": [],
   "source": [
    "# Start by defining your domain\n",
    "arbitrary_x = variable(\"x\")\n",
    "expression = arbitrary_x + 1\n",
    "\n",
    "# Then define your goal\n",
    "contradiction_goal = not_equals(expression, arbitrary_x)\n",
    "\n",
    "@contradiction_proof\n",
    "def proof_of_x_plus_one(x):\n",
    "    # Given x, Assume x + 1 = x is true for arbitrary_x\n",
    "    assumed_eq = equals(x + 1, x)\n",
    "\n",
    "    # Calculate x + 1\n",
    "    next = x + 1\n",
    "\n",
    "    # Observing x + 1 != x, we have reached a contradiction\n",
    "    return not_equals(next, assumed_eq.rhs)"
   ]
  },
  {
   "cell_type": "code",
   "execution_count": null,
   "metadata": {},
   "outputs": [
    {
     "data": {
      "text/latex": [
       "$$\\mathtt{\\text{Given x, Assume x + 1 = x is true for arbitrary\\_x}}$$"
      ],
      "text/plain": [
       "<IPython.core.display.Latex object>"
      ]
     },
     "metadata": {},
     "output_type": "display_data"
    },
    {
     "data": {
      "text/latex": [
       "$$x + 1 = x$$"
      ],
      "text/plain": [
       "<IPython.core.display.Latex object>"
      ]
     },
     "metadata": {},
     "output_type": "display_data"
    },
    {
     "data": {
      "text/latex": [
       "$$\\mathtt{\\text{Calculate x + 1}}$$"
      ],
      "text/plain": [
       "<IPython.core.display.Latex object>"
      ]
     },
     "metadata": {},
     "output_type": "display_data"
    },
    {
     "data": {
      "text/latex": [
       "$$x + 1$$"
      ],
      "text/plain": [
       "<IPython.core.display.Latex object>"
      ]
     },
     "metadata": {},
     "output_type": "display_data"
    },
    {
     "data": {
      "text/latex": [
       "$$\\mathtt{\\text{Observing x + 1 != x, we have reached a contradiction}}$$"
      ],
      "text/plain": [
       "<IPython.core.display.Latex object>"
      ]
     },
     "metadata": {},
     "output_type": "display_data"
    },
    {
     "data": {
      "text/latex": [
       "$$\\text \\quad x + 1 \\neq x \\quad Q.E.D.$$"
      ],
      "text/plain": [
       "<IPython.core.display.Latex object>"
      ]
     },
     "metadata": {},
     "output_type": "display_data"
    }
   ],
   "source": [
    "assert prove(contradiction_goal, proof_of_x_plus_one, arbitrary_x)\n",
    "# assert added for nbdev test"
   ]
  },
  {
   "cell_type": "code",
   "execution_count": null,
   "metadata": {},
   "outputs": [
    {
     "name": "stderr",
     "output_type": "stream",
     "text": [
      "/Users/max/.pyenv/versions/3.8.13/lib/python3.8/site-packages/nbdev/export.py:54: UserWarning: Notebook '/Users/max/Documents/proofs/proofs/nbs/01_polynomials.ipynb' uses `#|export` without `#|default_exp` cell.\n",
      "Note nbdev2 no longer supports nbdev1 syntax. Run `nbdev_migrate` to upgrade.\n",
      "See https://nbdev.fast.ai/getting_started.html for more information.\n",
      "  warn(f\"Notebook '{nbname}' uses `#|export` without `#|default_exp` cell.\\n\"\n"
     ]
    }
   ],
   "source": [
    "#| hide\n",
    "import nbdev; nbdev.nbdev_export()"
   ]
  },
  {
   "cell_type": "code",
   "execution_count": null,
   "metadata": {},
   "outputs": [],
   "source": []
  }
 ],
 "metadata": {
  "kernelspec": {
   "display_name": "python3",
   "language": "python",
   "name": "python3"
  }
 },
 "nbformat": 4,
 "nbformat_minor": 4
}
