{
 "cells": [
  {
   "cell_type": "code",
   "execution_count": null,
   "metadata": {},
   "outputs": [],
   "source": [
    "#| hide\n",
    "# !nbdev_export"
   ]
  },
  {
   "cell_type": "code",
   "execution_count": null,
   "metadata": {},
   "outputs": [],
   "source": [
    "#| hide\n",
    "from proofs.core import *"
   ]
  },
  {
   "attachments": {},
   "cell_type": "markdown",
   "metadata": {},
   "source": [
    "# proofs\n",
    "\n",
    "> Mathematical proof assistant for curious amateurs."
   ]
  },
  {
   "attachments": {},
   "cell_type": "markdown",
   "metadata": {},
   "source": [
    "This is a proofs validator to help students and hobbyists do mathematical thinking and problem solving.\n",
    "\n",
    "It's for when you buy a math book from the local used book store, so you have a piece of software to use to explore the mathematical concepts alongside you that's fun and easy to use for anybody with a programming background.\n",
    "\n",
    "It's supposed to validate what you're doing in a \"black box\" kind of manner, and try to offer you guardrails enough that you can spot your mistakes and feel *reasonably* more confident you know what you're doing.\n",
    "\n",
    "Not perfectly confident, reasonably.\n",
    "\n",
    "\n",
    "#### Features:\n",
    "- human-readable proofs that run in code. Clear from each line what is being achieved mathematically.\n",
    "- Pure python. Duck typing and abstracts allow for quick end-to-end proof designs, only implementing what you need.\n",
    "- Relies on python abstractions you know, like the type system for defining input and output types\n",
    "- Great, human readable errors so it's clear where your logic is breaking down, why, how you might fix it.\n",
    "\n",
    "#### Principles\n",
    "- Minimal abstractions, small API\n",
    "- minimal dependencies (just sympy right now)\n",
    "- declarative, functional api\n",
    "- simple to use\n",
    "- batteries included"
   ]
  },
  {
   "attachments": {},
   "cell_type": "markdown",
   "metadata": {},
   "source": [
    "## Install"
   ]
  },
  {
   "attachments": {},
   "cell_type": "markdown",
   "metadata": {},
   "source": [
    "```sh\n",
    "pip install proofs\n",
    "```"
   ]
  },
  {
   "attachments": {},
   "cell_type": "markdown",
   "metadata": {},
   "source": [
    "## How to use"
   ]
  },
  {
   "attachments": {},
   "cell_type": "markdown",
   "metadata": {},
   "source": [
    "Let's start with something simple, first, let's prove that \"Given x, Assume x + 1 = x is false for all x\"\n",
    "\n",
    "This should be obvious, which makes is great to show how to approach a proof.\n",
    "\n",
    "1. Define the problem\n",
    "2. Look at examples\n",
    "3. Decide on a proof strategy\n",
    "4. Write the proof"
   ]
  },
  {
   "cell_type": "code",
   "execution_count": null,
   "metadata": {},
   "outputs": [],
   "source": [
    "# Start by defining your domain\n",
    "arbitrary_x = variable(\"x\")\n",
    "expression = arbitrary_x + 1"
   ]
  },
  {
   "cell_type": "code",
   "execution_count": null,
   "metadata": {},
   "outputs": [
    {
     "name": "stdout",
     "output_type": "stream",
     "text": [
      "x + 1\n"
     ]
    }
   ],
   "source": [
    "print(expression)"
   ]
  },
  {
   "cell_type": "code",
   "execution_count": null,
   "metadata": {},
   "outputs": [
    {
     "data": {
      "text/plain": [
       "[(-57, -56), (-100, -99), (-31, -30)]"
      ]
     },
     "execution_count": null,
     "metadata": {},
     "output_type": "execute_result"
    }
   ],
   "source": [
    "# select a few examples from the reals\n",
    "make_examples('real', 3, expression)"
   ]
  },
  {
   "attachments": {},
   "cell_type": "markdown",
   "metadata": {},
   "source": [
    "Hopefully these examples convice us that the statement is false. This suggests that we can prove it by contradiction."
   ]
  },
  {
   "cell_type": "code",
   "execution_count": null,
   "metadata": {},
   "outputs": [],
   "source": [
    "# Then define your goal\n",
    "contradiction_goal = not_equals(expression, arbitrary_x)"
   ]
  },
  {
   "cell_type": "code",
   "execution_count": null,
   "metadata": {},
   "outputs": [
    {
     "data": {
      "text/latex": [
       "$$\\mathtt{\\text{Given x, Assume x + 1 = x is true for arbitrary x}}$$"
      ],
      "text/plain": [
       "<IPython.core.display.Latex object>"
      ]
     },
     "metadata": {},
     "output_type": "display_data"
    },
    {
     "data": {
      "text/latex": [
       "$$x + 1 = x$$"
      ],
      "text/plain": [
       "<IPython.core.display.Latex object>"
      ]
     },
     "metadata": {},
     "output_type": "display_data"
    },
    {
     "data": {
      "text/latex": [
       "$$\\mathtt{\\text{Calculate x + 1}}$$"
      ],
      "text/plain": [
       "<IPython.core.display.Latex object>"
      ]
     },
     "metadata": {},
     "output_type": "display_data"
    },
    {
     "data": {
      "text/latex": [
       "$$x + 1$$"
      ],
      "text/plain": [
       "<IPython.core.display.Latex object>"
      ]
     },
     "metadata": {},
     "output_type": "display_data"
    },
    {
     "data": {
      "text/latex": [
       "$$\\mathtt{\\text{Observing x + 1 != x, we have reached a contradiction}}$$"
      ],
      "text/plain": [
       "<IPython.core.display.Latex object>"
      ]
     },
     "metadata": {},
     "output_type": "display_data"
    },
    {
     "data": {
      "text/latex": [
       "$$\\text \\quad x + 1 \\neq x \\quad Q.E.D.$$"
      ],
      "text/plain": [
       "<IPython.core.display.Latex object>"
      ]
     },
     "metadata": {},
     "output_type": "display_data"
    },
    {
     "data": {
      "text/plain": [
       "True"
      ]
     },
     "execution_count": null,
     "metadata": {},
     "output_type": "execute_result"
    }
   ],
   "source": [
    "@contradiction_proof\n",
    "def proof_of_x_plus_one(x):\n",
    "    # Given x, Assume x + 1 = x is true for arbitrary x\n",
    "    assumed_eq = equals(x + 1, x)\n",
    "\n",
    "    # Calculate x + 1\n",
    "    next = x + 1\n",
    "\n",
    "    # Observing x + 1 != x, we have reached a contradiction\n",
    "    return not_equals(next, assumed_eq.rhs)\n",
    "\n",
    "#Select an arbitrary x from the domain\n",
    "prove(contradiction_goal, proof_of_x_plus_one, arbitrary_x)"
   ]
  },
  {
   "attachments": {},
   "cell_type": "markdown",
   "metadata": {},
   "source": [
    "With this, we get:\n",
    "\n",
    "1. Complete latex rendering of the math we are doing in python and our logic\n",
    "2. validation that what we are returning from the proof matches the expected goal\n",
    "3. some additional helpful errors"
   ]
  },
  {
   "attachments": {},
   "cell_type": "markdown",
   "metadata": {},
   "source": [
    "# Next steps\n",
    "\n",
    "Likes:\n",
    "\n",
    "- simple API\n",
    "\n",
    "- structure is about proving things now\n",
    "\n",
    "- Like that the goal is to create a prove function that matches the goal given the input you have. I think that's very straightforward.\n",
    "\n",
    "Dislikes\n",
    "\n",
    "- type system not doing anything. Can we use mypy or isinstance to actually check that the correct type is being returned?\n",
    "\n",
    "- no error handling to help detect where the proof is going wrong. should provide better error messages than just `AttributeError: 'BooleanFalse' object has no attribute 'lhs'` — why is that a booleanFalse object? what else might I want to try? Also needs to be build into library, not user defined all the time\n",
    "\n",
    "Must haves:\n",
    "\n",
    "- Needs to be clearer that the flow is to generate a proof spec, decide on an input, and then generate a proof function to do this. Solve this by providing a function that helps do common problem setups, and prints them as Latex, then outputs something that can be used in the _proof strategy decorators.\n",
    "\n",
    "Feature requests:\n",
    "\n",
    "- I really want simple, composable visualization features. It will be really much more interesting if we can see visually what is happening -- see start below https://docs.manim.community/en/stable/examples.html#animations\n",
    "\n",
    "- build in a simple type unification feature. see research on [[proofs - inductive types and unification]]\n",
    "\n",
    "- better latex printing\n",
    "\n",
    "nice to haves\n",
    "\n",
    "- some common 'tactics' mirroring lean; rewrite, reflexivity, etc. Pull from sympy as well\n",
    "- integrate hypothesis to show that the \n",
    "\n",
    "Content:\n",
    "\n",
    "- clone the natural numbers game https://www.ma.imperial.ac.uk/~buzzard/xena/natural_number_game/?world=1&level=1 (good start)\n",
    "- companion guide to https://www.people.vcu.edu/~rhammack/BookOfProof/\n",
    "- Some hilltop problems\n",
    "\t- https://www.youtube.com/watch?v=IUTGFQpKaPU - ask bard for a proof.\n",
    "- other books to read through\n",
    "\t- https://infinitedescent.xyz/about/\n",
    "\t- https://www.math.cmu.edu/~jmackey/151_128/bws_book.pdf\n",
    "\t- https://abstractmath.org/CTCS/CTCS.pdf\n",
    "- Another proof project, this one more in line with the philosophy of what I'm doing:\n",
    "\t- https://us.metamath.org/mpeuni/mmset.html (very good resource for the level of rigor and basicness that I'm looking for)"
   ]
  },
  {
   "attachments": {},
   "cell_type": "markdown",
   "metadata": {},
   "source": []
  }
 ],
 "metadata": {
  "kernelspec": {
   "display_name": "python3",
   "language": "python",
   "name": "python3"
  }
 },
 "nbformat": 4,
 "nbformat_minor": 4
}
