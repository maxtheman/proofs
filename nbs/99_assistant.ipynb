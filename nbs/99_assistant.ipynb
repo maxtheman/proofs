{
 "cells": [
  {
   "attachments": {},
   "cell_type": "markdown",
   "id": "7ffe259c",
   "metadata": {},
   "source": [
    "# Assistant\n",
    "> Experimental assistant for proving things. Not yet useful for anything."
   ]
  },
  {
   "cell_type": "code",
   "execution_count": null,
   "id": "4df5f81c",
   "metadata": {},
   "outputs": [],
   "source": [
    "#| hide\n",
    "from nbdev.showdoc import *\n",
    "from fastcore.test import *"
   ]
  },
  {
   "cell_type": "code",
   "execution_count": null,
   "id": "79c9bc25",
   "metadata": {},
   "outputs": [],
   "source": [
    "#| default_exp assistant"
   ]
  },
  {
   "cell_type": "code",
   "execution_count": null,
   "id": "3bd131de",
   "metadata": {},
   "outputs": [],
   "source": [
    "#| export\n",
    "import inspect"
   ]
  },
  {
   "attachments": {},
   "cell_type": "markdown",
   "id": "12e0bffd",
   "metadata": {},
   "source": [
    "Literally doesn't work right now.\n",
    "\n",
    "The main goal here is to find paths for converting between different types in Python. The approaches discussed in this answer implement the following techniques:\n",
    "\n",
    "1. Exploring class hierarchy (subclass and superclass relationships) between types.\n",
    "2. Using a unification-like approach to find common types and conversion paths between types.\n",
    "\n",
    "Python is quite different from Lean, a theorem prover that finds paths between types for the purpose of proving mathematical statements. Because of it's dynamic and less strict type system, we are instead trying to create dictionaries to hold and identify conversion functions for different pairs of types.\n",
    "\n",
    "There are probably better/different approaches, this is just a proof of concept."
   ]
  },
  {
   "attachments": {},
   "cell_type": "markdown",
   "id": "dcf39932",
   "metadata": {},
   "source": [
    "# Triavial unification like-approach\n",
    "I think this is closer to lean?\n",
    "1. Define a set of conversion functions between different types.\n",
    "2. Create a dictionary that maps pairs of types to their corresponding conversion functions.\n",
    "3. Implement a unification function that takes two types and returns their common type, if one exists.\n",
    "4. Implement a function that finds a conversion path between two expressions by unifying their types and using the conversion functions.\n",
    "5. Use the function to find conversion paths between expressions.\n",
    "\n",
    "This could be interesting and offers a more perscriptive way to work with this., but would require a lot of work to make useful."
   ]
  },
  {
   "cell_type": "code",
   "execution_count": null,
   "id": "dace34c4",
   "metadata": {},
   "outputs": [],
   "source": [
    "# Step 1: Define conversion functions\n",
    "def convert_int_to_float(x: int) -> float:\n",
    "    return float(x)\n",
    "\n",
    "def convert_float_to_str(x: float) -> str:\n",
    "    return str(x)\n",
    "\n",
    "# Step 2: Create a dictionary of conversion functions\n",
    "conversion_dict = {\n",
    "    (int, float): convert_int_to_float,\n",
    "    (float, str): convert_float_to_str,\n",
    "}\n",
    "\n",
    "# Step 3: Implement a unification function\n",
    "def unify_types(type1, type2):\n",
    "    if type1 == type2:\n",
    "        return type1\n",
    "\n",
    "    if (type1, type2) in conversion_dict:\n",
    "        return type2\n",
    "\n",
    "    if (type2, type1) in conversion_dict:\n",
    "        return type1\n",
    "\n",
    "    return None\n",
    "\n",
    "# Step 4: Implement a function to find conversion paths\n",
    "def find_conversion_path(expr1, expr2):\n",
    "    type1 = type(expr1)\n",
    "    type2 = type(expr2)\n",
    "\n",
    "    common_type = unify_types(type1, type2)\n",
    "    print(common_type)\n",
    "\n",
    "    if common_type is None:\n",
    "        return None\n",
    "\n",
    "    path = []\n",
    "\n",
    "    if type1 != common_type:\n",
    "        path.append(conversion_dict[(type1, common_type)])\n",
    "\n",
    "    if type2 != common_type:\n",
    "        path.append(conversion_dict[(common_type, type2)])\n",
    "\n",
    "    return path"
   ]
  },
  {
   "cell_type": "code",
   "execution_count": null,
   "id": "69ed1c5b",
   "metadata": {},
   "outputs": [
    {
     "name": "stdout",
     "output_type": "stream",
     "text": [
      "<class 'float'>\n"
     ]
    }
   ],
   "source": [
    "# Step 5: Use the function to find conversion paths between expressions\n",
    "expr1 = 1\n",
    "expr2 = 2.0\n",
    "conversion_path = find_conversion_path(expr1, expr2)"
   ]
  },
  {
   "cell_type": "code",
   "execution_count": null,
   "id": "ee2321b9",
   "metadata": {},
   "outputs": [],
   "source": [
    "test_eq(conversion_path[0], convert_int_to_float)"
   ]
  },
  {
   "attachments": {},
   "cell_type": "markdown",
   "id": "4c848639",
   "metadata": {},
   "source": [
    "So, lots of work for kind of a simple thing. TBD if it's work revisiting in the future."
   ]
  },
  {
   "attachments": {},
   "cell_type": "markdown",
   "id": "a8963c83",
   "metadata": {},
   "source": [
    "# Exploring class hierarchy\n",
    "1. Define a function to find the least common ancestor (LCA) of two types in the class hierarchy.\n",
    "2. Implement a function to find a conversion path between two expressions by finding their LCA and using the LCA to define a conversion function.\n",
    "\n",
    "I don't think 2 is generally possible."
   ]
  },
  {
   "cell_type": "code",
   "execution_count": null,
   "id": "a22d0c06",
   "metadata": {},
   "outputs": [],
   "source": [
    "# Step 1: Define a function to find the least common ancestor of two types\n",
    "def least_common_ancestor(type1, type2):\n",
    "    type1_superclasses = inspect.getmro(type1)\n",
    "    type2_superclasses = inspect.getmro(type2)\n",
    "    print(type1_superclasses)\n",
    "    print(type2_superclasses)\n",
    "\n",
    "    if type1 in type2_superclasses:\n",
    "        return type1\n",
    "    if type2 in type1_superclasses:\n",
    "        return type2\n",
    "\n",
    "    for superclass1 in type1_superclasses:\n",
    "        if superclass1 in type2_superclasses:\n",
    "            return superclass1\n",
    "\n",
    "    return None\n",
    "\n",
    "# Step 2: Implement a function to find a conversion path between two expressions\n",
    "def find_conversion_path(expr1, expr2):\n",
    "    type1 = type(expr1)\n",
    "    type2 = type(expr2)\n",
    "\n",
    "    common_ancestor = least_common_ancestor(type1, type2)\n",
    "\n",
    "    if common_ancestor is None:\n",
    "        # No common ancestor found in the class hierarchy\n",
    "        return None\n",
    "    \n",
    "    def conversion_function(x):\n",
    "        return common_ancestor(x)\n",
    "\n",
    "    return conversion_function"
   ]
  },
  {
   "cell_type": "code",
   "execution_count": null,
   "id": "fce30835",
   "metadata": {},
   "outputs": [
    {
     "name": "stdout",
     "output_type": "stream",
     "text": [
      "(<class '__main__.B'>, <class '__main__.A'>, <class 'object'>)\n",
      "(<class '__main__.D'>, <class '__main__.C'>, <class '__main__.A'>, <class 'object'>)\n"
     ]
    }
   ],
   "source": [
    "# example heirarchy - D is a subclass of C, which is a subclass of A\n",
    "class A: pass\n",
    "class B(A): pass\n",
    "class C(A): pass\n",
    "class D(C): pass\n",
    "\n",
    "expr1 = B()\n",
    "expr2 = D()\n",
    "\n",
    "conversion_function = find_conversion_path(expr1, expr2)"
   ]
  },
  {
   "cell_type": "code",
   "execution_count": null,
   "id": "a91e0382",
   "metadata": {},
   "outputs": [
    {
     "name": "stdout",
     "output_type": "stream",
     "text": [
      "(<class '__main__.B'>, <class '__main__.A'>, <class 'object'>)\n",
      "(<class '__main__.D'>, <class '__main__.C'>, <class '__main__.A'>, <class 'object'>)\n"
     ]
    },
    {
     "data": {
      "text/plain": [
       "__main__.A"
      ]
     },
     "execution_count": null,
     "metadata": {},
     "output_type": "execute_result"
    }
   ],
   "source": [
    "least_common_ancestor(B, D)"
   ]
  },
  {
   "cell_type": "code",
   "execution_count": null,
   "id": "4c3555bc",
   "metadata": {},
   "outputs": [],
   "source": [
    "test_fail(lambda: conversion_function(expr1))"
   ]
  },
  {
   "attachments": {},
   "cell_type": "markdown",
   "id": "681f0e33",
   "metadata": {},
   "source": [
    "The above function does not run.\n",
    "\n",
    "I don't know if this is generally possible, but the least common ancestor approach is promising. There may be some element of hardcoded vs least common ancestor that would be useful here."
   ]
  },
  {
   "cell_type": "code",
   "execution_count": null,
   "id": "86925b4f",
   "metadata": {},
   "outputs": [],
   "source": [
    "#| hide\n",
    "import nbdev; nbdev.nbdev_export()"
   ]
  },
  {
   "cell_type": "code",
   "execution_count": null,
   "id": "c8d0a8d1",
   "metadata": {},
   "outputs": [],
   "source": []
  }
 ],
 "metadata": {
  "kernelspec": {
   "display_name": "python3",
   "language": "python",
   "name": "python3"
  }
 },
 "nbformat": 4,
 "nbformat_minor": 5
}
