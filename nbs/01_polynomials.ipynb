{
 "cells": [
  {
   "cell_type": "code",
   "execution_count": null,
   "metadata": {},
   "outputs": [],
   "source": [
    "#|default_exp polynomials"
   ]
  },
  {
   "cell_type": "code",
   "execution_count": null,
   "metadata": {},
   "outputs": [],
   "source": [
    "#| hide\n",
    "from nbdev.showdoc import *\n",
    "from fastcore.test import *"
   ]
  },
  {
   "attachments": {},
   "cell_type": "markdown",
   "metadata": {},
   "source": [
    "# Polynomials\n",
    "\n",
    "> Accompanying notebook centered around learning [Chapter 1 of the Programmer's introduction to Mathematics](https://pimbook.org/)."
   ]
  },
  {
   "cell_type": "code",
   "execution_count": null,
   "metadata": {},
   "outputs": [],
   "source": [
    "#| export\n",
    "from proofs.core import *\n",
    "import sympy as sp\n",
    "from typing import Union"
   ]
  },
  {
   "attachments": {},
   "cell_type": "markdown",
   "metadata": {},
   "source": [
    "A single variable polynomial with real coefficients is a function of the form $f$ that takes a real number as input, produces a real number as output, and has the form:\n",
    "\n",
    "$$f(x)=a_0+a_1x+a_2x^2+...+a_nx^n$$\n",
    "\n",
    "where $a_0,a_1,...,a_n$ are real numbers. The number $a_i$ are called the coefficients of f. The degree of the polynomial is the integer $n$."
   ]
  },
  {
   "cell_type": "code",
   "execution_count": null,
   "metadata": {},
   "outputs": [],
   "source": [
    "#| export\n",
    "class Polynomial:\n",
    "    '''A class used to represent a general polynomial, which is a function that both takes and returns real numbers.\n",
    "    Currently only supports single-variable polynomial functions.\n",
    "            Polynomials require:\n",
    "            - coefficients\n",
    "            - degree\n",
    "            '''\n",
    "    def __init__(self, \n",
    "                 function_name : str = 'f', # name of function\n",
    "                 variable_name : str = 'x', # name of variable\n",
    "                 degree : Union[int, str] = 'n', # degree of polynomial\n",
    "                 coefficient_name : str ='a' # str for name of coefficients\n",
    "                 ):\n",
    "        self.x = variable(variable_name)\n",
    "        self.starting_index = 0\n",
    "        self.degree = variable(degree)\n",
    "        self.sum_index = variable('i')\n",
    "        self.coefficients = sp.IndexedBase(coefficient_name)\n",
    "        self.general_sum = sp.Sum(self.coefficients[self.sum_index] * self.x**self.sum_index, (self.sum_index, self.starting_index , self.degree))\n",
    "        self.function_name = function_name\n",
    "        self.polynomial = equation(self.function_name, self.x, self.general_sum)\n",
    "\n",
    "    def __repr__(self):\n",
    "        if type(self.degree) != int:\n",
    "            return f'{self.function_name}({self.x}) = {self.coefficients[self.starting_index]} * {self.x}**{self.starting_index} + {self.coefficients[self.starting_index+1]} * {self.x}**{self.starting_index+1} + ... + {self.coefficients[self.degree]} * {self.x}**{self.degree}'\n",
    "        else:\n",
    "            return self.polynomial.__repr__()\n",
    "\n",
    "    \n",
    "    def right_hand_side(self):\n",
    "        '''right hand side of the polynomial'''\n",
    "        return self.general_sum\n",
    "    \n",
    "    def equality(self):\n",
    "        '''Returns the equality of the polynomial'''\n",
    "        return self.polynomial\n",
    "    \n",
    "    def set_degree(self,\n",
    "                   degree # degree of polynomial, int\n",
    "                   ):\n",
    "        '''Sets the degree of the polynomial'''\n",
    "        self.polynomial = self.polynomial.subs(self.degree, degree).doit()\n",
    "        self.degree = degree\n",
    "        return self.polynomial\n",
    "\n",
    "    def set_coefficients(self,\n",
    "                         coefficients : list # list of coefficients starting with the lowest indexed coefficient\n",
    "                         ):\n",
    "        '''Sets the coefficients of the polynomial'''\n",
    "        for index, coefficient in enumerate(coefficients):\n",
    "            self.polynomial = self.polynomial.subs(self.coefficients[index], coefficient).doit()\n",
    "        return self.polynomial\n",
    "\n",
    "    def get_output(self,\n",
    "                     variable_value # value of the variable\n",
    "                     ):\n",
    "        '''Sets the variable of the polynomial'''\n",
    "        return self.polynomial.subs(self.x, variable_value).doit()"
   ]
  },
  {
   "cell_type": "code",
   "execution_count": null,
   "metadata": {},
   "outputs": [
    {
     "data": {
      "text/markdown": [
       "|    | **Type** | **Default** | **Details** |\n",
       "| -- | -------- | ----------- | ----------- |\n",
       "| function_name | str | f | name of function |\n",
       "| variable_name | str | x | name of variable |\n",
       "| degree | typing.Union[int, str] | n | degree of polynomial |\n",
       "| coefficient_name | str | a | str for name of coefficients |"
      ],
      "text/plain": [
       "<nbdev.showdoc.DocmentTbl>"
      ]
     },
     "execution_count": null,
     "metadata": {},
     "output_type": "execute_result"
    }
   ],
   "source": [
    "#| hide\n",
    "DocmentTbl(Polynomial)\n"
   ]
  },
  {
   "cell_type": "code",
   "execution_count": null,
   "metadata": {},
   "outputs": [
    {
     "data": {
      "text/latex": [
       "$\\displaystyle f{\\left(x \\right)} = \\sum_{i=0}^{n} x^{i} {a}_{i}$"
      ],
      "text/plain": [
       "Eq(f(x), Sum(x**i*a[i], (i, 0, n)))"
      ]
     },
     "execution_count": null,
     "metadata": {},
     "output_type": "execute_result"
    }
   ],
   "source": [
    "Polynomial().equality()"
   ]
  },
  {
   "cell_type": "code",
   "execution_count": null,
   "metadata": {},
   "outputs": [
    {
     "name": "stdout",
     "output_type": "stream",
     "text": [
      "f(x) = a[0] * x**0 + a[1] * x**1 + ... + a[n] * x**n\n"
     ]
    }
   ],
   "source": [
    "print(Polynomial())"
   ]
  },
  {
   "cell_type": "code",
   "execution_count": null,
   "metadata": {},
   "outputs": [],
   "source": [
    "test_eq(Polynomial().right_hand_side(), Polynomial().equality().rhs)"
   ]
  },
  {
   "cell_type": "code",
   "execution_count": null,
   "metadata": {},
   "outputs": [],
   "source": [
    "x = variable('x')\n",
    "n = variable('n')\n",
    "i = variable('i')\n",
    "a = sp.IndexedBase('a')\n",
    "\n",
    "f_x = sp.Sum(a[i] * x**i, (i, 0, n))\n",
    "\n",
    "f_x\n",
    "\n",
    "test_eq(Polynomial().right_hand_side(), f_x)"
   ]
  },
  {
   "cell_type": "code",
   "execution_count": null,
   "metadata": {},
   "outputs": [
    {
     "data": {
      "text/latex": [
       "$\\displaystyle \\sum_{i=0}^{n} x^{i} {a}_{i}$"
      ],
      "text/plain": [
       "Sum(x**i*a[i], (i, 0, n))"
      ]
     },
     "execution_count": null,
     "metadata": {},
     "output_type": "execute_result"
    }
   ],
   "source": [
    "f_x"
   ]
  },
  {
   "cell_type": "code",
   "execution_count": null,
   "metadata": {},
   "outputs": [],
   "source": [
    "# create g(t) = 2 + 0t + 4t^2 - t^3\n",
    "g = Polynomial(variable_name='t', function_name='g', degree='n', coefficient_name='a')\n"
   ]
  },
  {
   "cell_type": "code",
   "execution_count": null,
   "metadata": {},
   "outputs": [
    {
     "data": {
      "text/latex": [
       "$\\displaystyle g{\\left(t \\right)} = t^{3} {a}_{3} + t^{2} {a}_{2} + t {a}_{1} + {a}_{0}$"
      ],
      "text/plain": [
       "Eq(g(t), t**3*a[3] + t**2*a[2] + t*a[1] + a[0])"
      ]
     },
     "execution_count": null,
     "metadata": {},
     "output_type": "execute_result"
    }
   ],
   "source": [
    "g.set_degree(3)"
   ]
  },
  {
   "cell_type": "code",
   "execution_count": null,
   "metadata": {},
   "outputs": [
    {
     "data": {
      "text/latex": [
       "$\\displaystyle g{\\left(t \\right)} = - t^{3} + 4 t^{2} + 2$"
      ],
      "text/plain": [
       "Eq(g(t), -t**3 + 4*t**2 + 2)"
      ]
     },
     "execution_count": null,
     "metadata": {},
     "output_type": "execute_result"
    }
   ],
   "source": [
    "g.set_coefficients([2, 0, 4, -1]) "
   ]
  },
  {
   "attachments": {},
   "cell_type": "markdown",
   "metadata": {},
   "source": [
    "If you want to set a specific polynomial all at once, here's a helper function for that:"
   ]
  },
  {
   "cell_type": "code",
   "execution_count": null,
   "metadata": {},
   "outputs": [],
   "source": [
    "#| export\n",
    "def polynomial(degree : int, # degree of polynomial\n",
    "                    coefficients : list # list of coefficients starting with the lowest indexed coefficient\n",
    "                    ):\n",
    "    '''Returns a polynomial function with the given degree and coefficients'''\n",
    "    basic_polynomial = Polynomial()\n",
    "    basic_polynomial.set_degree(degree)\n",
    "    basic_polynomial.set_coefficients(coefficients)\n",
    "    return basic_polynomial\n"
   ]
  },
  {
   "attachments": {},
   "cell_type": "markdown",
   "metadata": {},
   "source": [
    "Sometimes it might be better to directly generate a polynomial with the `equation` function.\n",
    "\n",
    "For example, to create the above polynomial as a one liner, see below. It's up to you to decide which is clearer."
   ]
  },
  {
   "cell_type": "code",
   "execution_count": null,
   "metadata": {},
   "outputs": [
    {
     "data": {
      "text/latex": [
       "$\\displaystyle g{\\left(t \\right)} = - t^{3} + 4 t^{2} + 2$"
      ],
      "text/plain": [
       "Eq(g(t), -t**3 + 4*t**2 + 2)"
      ]
     },
     "execution_count": null,
     "metadata": {},
     "output_type": "execute_result"
    }
   ],
   "source": [
    "equation('g', variable('t'), 2 + (0*variable('t')) + (4*variable('t')**2) + (-1*variable('t')**3))"
   ]
  },
  {
   "attachments": {},
   "cell_type": "markdown",
   "metadata": {},
   "source": [
    "### Existence and Uniqueness for Polynomials\n",
    "For any integer  $n\\geq 0$, and any list of $n+1$ points $(x_0,y_0),(x_1,y_1),...,(x_n,y_n)$ in R^2 there is a unique polynomial $f$ of degree at most $n$ such that $f(x_i)=y_i$ for all $i=0,1,...,n$."
   ]
  },
  {
   "cell_type": "code",
   "execution_count": null,
   "metadata": {},
   "outputs": [
    {
     "data": {
      "text/latex": [
       "$\\displaystyle f{\\left(x \\right)} = - x^{3} + 4 x^{2} + 2$"
      ],
      "text/plain": [
       "Eq(f(x), -x**3 + 4*x**2 + 2)"
      ]
     },
     "execution_count": null,
     "metadata": {},
     "output_type": "execute_result"
    }
   ],
   "source": [
    "polynomial_to_test = polynomial(3, [2, 0, 4, -1])\n",
    "simple_polynomial = polynomial(1, [1, 1])\n",
    "\n",
    "polynomial_to_test.polynomial"
   ]
  },
  {
   "cell_type": "code",
   "execution_count": null,
   "metadata": {},
   "outputs": [
    {
     "data": {
      "text/latex": [
       "$\\displaystyle f{\\left(x \\right)} = x + 1$"
      ],
      "text/plain": [
       "Eq(f(x), x + 1)"
      ]
     },
     "execution_count": null,
     "metadata": {},
     "output_type": "execute_result"
    }
   ],
   "source": [
    "simple_polynomial.polynomial"
   ]
  },
  {
   "cell_type": "code",
   "execution_count": null,
   "metadata": {},
   "outputs": [
    {
     "name": "stdout",
     "output_type": "stream",
     "text": [
      "(97, 5)\n",
      "bigger: Eq(f(97), -875035)\n",
      "simple: Eq(f(97), 98)\n",
      "(187, 5)\n",
      "bigger: Eq(f(187), -6399325)\n",
      "simple: Eq(f(187), 188)\n",
      "(261, 5)\n",
      "bigger: Eq(f(261), -17507095)\n",
      "simple: Eq(f(261), 262)\n",
      "(315, 5)\n",
      "bigger: Eq(f(315), -30858973)\n",
      "simple: Eq(f(315), 316)\n",
      "(338, 5)\n",
      "bigger: Eq(f(338), -38157494)\n",
      "simple: Eq(f(338), 339)\n",
      "(382, 5)\n",
      "bigger: Eq(f(382), -55159270)\n",
      "simple: Eq(f(382), 383)\n"
     ]
    }
   ],
   "source": [
    "sample_pairs = make_examples('real', 6, 5, positive_only=True, increasing_only=True)\n",
    "for pair in sample_pairs:\n",
    "    print(pair)\n",
    "    print('bigger:', polynomial_to_test.get_output(pair[0]))\n",
    "    print('simple:', simple_polynomial.get_output(pair[0]))"
   ]
  },
  {
   "cell_type": "code",
   "execution_count": null,
   "metadata": {},
   "outputs": [],
   "source": []
  }
 ],
 "metadata": {
  "kernelspec": {
   "display_name": "python3",
   "language": "python",
   "name": "python3"
  }
 },
 "nbformat": 4,
 "nbformat_minor": 2
}
